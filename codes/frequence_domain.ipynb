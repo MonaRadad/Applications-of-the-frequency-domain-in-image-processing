{
  "nbformat": 4,
  "nbformat_minor": 0,
  "metadata": {
    "colab": {
      "name": "frequence domain.ipynb",
      "provenance": [],
      "collapsed_sections": []
    },
    "kernelspec": {
      "name": "python3",
      "display_name": "Python 3"
    },
    "language_info": {
      "name": "python"
    }
  },
  "cells": [
    {
      "cell_type": "code",
      "execution_count": null,
      "metadata": {
        "id": "mWD37RJZev7r"
      },
      "outputs": [],
      "source": [
        "import numpy as np\n",
        "import pandas as pd\n",
        "import matplotlib as plt\n",
        "import cv2\n",
        "from google.colab.patches import cv2_imshow\n",
        "import numpy as np\n",
        "import matplotlib.pyplot as plt\n",
        "from skimage.io import imread, imshow\n",
        "from skimage.color import rgb2hsv, rgb2gray, rgb2yuv\n",
        "from skimage import color, exposure, transform\n",
        "from skimage.exposure import equalize_hist"
      ]
    },
    {
      "cell_type": "code",
      "source": [
        "img1 = cv2.imread(\"Im184.bmp\",0)\n",
        "img2 = cv2.imread(\"Im183.BMP\",0)\n",
        "#cv2_imshow(img1)\n",
        "#cv2_imshow(img2)"
      ],
      "metadata": {
        "id": "BOBDqGRQe1KK"
      },
      "execution_count": null,
      "outputs": []
    },
    {
      "cell_type": "code",
      "source": [
        "dark_image1_grey = rgb2gray(img1)\n",
        "plt.figure(num=None, figsize=(8, 6), dpi=80)\n",
        "plt.imshow(dark_image1_grey, cmap='gray');\n"
      ],
      "metadata": {
        "id": "LtuHkbeJe28_"
      },
      "execution_count": null,
      "outputs": []
    },
    {
      "cell_type": "code",
      "source": [
        "dark_image2_grey = rgb2gray(img2)\n",
        "plt.figure(num=None, figsize=(8, 6), dpi=80)\n",
        "plt.imshow(dark_image2_grey, cmap='gray');"
      ],
      "metadata": {
        "id": "zequlhuae5ce"
      },
      "execution_count": null,
      "outputs": []
    },
    {
      "cell_type": "code",
      "source": [
        "dark_image_grey_fourier = np.fft.fftshift(np.fft.fft2(dark_image2_grey))\n",
        "plt.figure(num=None, figsize=(8, 6), dpi=80)\n",
        "plt.imshow(np.log(abs(dark_image_grey_fourier)), cmap='gray');"
      ],
      "metadata": {
        "id": "VXLJk5gKe8Mg"
      },
      "execution_count": null,
      "outputs": []
    },
    {
      "cell_type": "markdown",
      "source": [
        "spectrum im183"
      ],
      "metadata": {
        "id": "_AZSZXhMfDxr"
      }
    },
    {
      "cell_type": "code",
      "source": [
        "f2 = np.fft.fft2(img2)\n",
        "fshift = np.fft.fftshift(f2)\n",
        "magnitude_spectrum2 = 20*np.log(np.abs(fshift))\n",
        "plt.subplot(121),plt.imshow(img2, cmap = 'gray')\n",
        "plt.title('Input Image'), plt.xticks([]), plt.yticks([])\n",
        "plt.subplot(122),plt.imshow(magnitude_spectrum2, cmap = 'gray')\n",
        "plt.title('Magnitude Spectrum'), plt.xticks([]), plt.yticks([])\n",
        "plt.show()"
      ],
      "metadata": {
        "id": "L1hxKgpRe_vC"
      },
      "execution_count": null,
      "outputs": []
    },
    {
      "cell_type": "markdown",
      "source": [
        "#spectrum im184\n"
      ],
      "metadata": {
        "id": "1V06k7pp58gU"
      }
    },
    {
      "cell_type": "code",
      "source": [
        "import cv2\n",
        "import numpy as np\n",
        "from matplotlib import pyplot as plt\n",
        "\n",
        "img = cv2.imread('Im184.bmp',0)\n",
        "f = np.fft.fft2(img)\n",
        "fshift = np.fft.fftshift(f)\n",
        "magnitude_spectrum = 20*np.log(np.abs(fshift))\n",
        "\n",
        "plt.subplot(121),plt.imshow(img, cmap = 'gray')\n",
        "plt.title('Input Image'), plt.xticks([]), plt.yticks([])\n",
        "plt.subplot(122),plt.imshow(magnitude_spectrum, cmap = 'gray')\n",
        "plt.title('Magnitude Spectrum'), plt.xticks([]), plt.yticks([])\n",
        "plt.show()"
      ],
      "metadata": {
        "id": "kdc4zKs55_x0"
      },
      "execution_count": null,
      "outputs": []
    },
    {
      "cell_type": "markdown",
      "source": [
        "#phase im183"
      ],
      "metadata": {
        "id": "imdrPF4W6TWz"
      }
    },
    {
      "cell_type": "code",
      "source": [
        "import numpy as np\n",
        "import cv2\n",
        "from matplotlib import pyplot as plt\n",
        "\n",
        "img=cv2.imread('Im183.BMP',0)\n",
        "#img = cv2.cvtColor(img)\n",
        "dft = np.fft.fft2(img)\n",
        "dft_shift = np.fft.fftshift(dft)\n",
        "phase_spectrum = np.angle(dft_shift)\n",
        "\n",
        "ax1 = plt.subplot(1,2,1)\n",
        "ax1.imshow(img, cmap='gray')\n",
        "\n",
        "ax2 = plt.subplot(1,2,2)\n",
        "ax2.imshow(phase_spectrum, cmap='gray')\n",
        "\n",
        "plt.show()"
      ],
      "metadata": {
        "id": "J0MSns-f6Ukb"
      },
      "execution_count": null,
      "outputs": []
    },
    {
      "cell_type": "markdown",
      "source": [
        "#phase im184"
      ],
      "metadata": {
        "id": "sjTNExJQ6XgN"
      }
    },
    {
      "cell_type": "code",
      "source": [
        "import numpy as np\n",
        "import cv2\n",
        "from matplotlib import pyplot as plt\n",
        "\n",
        "img2 = cv2.imread(\"Im184.bmp\",0)\n",
        "#img2 = cv2.cvtColor(img2,cv2.COLOR_BGR2GRAY)\n",
        "dft = np.fft.fft2(img2)\n",
        "dft_shift = np.fft.fftshift(dft)\n",
        "phase_spectrum2 = np.angle(dft_shift)\n",
        "\n",
        "ax1 = plt.subplot(1,2,1)\n",
        "ax1.imshow(img2, cmap='gray')\n",
        "\n",
        "ax2 = plt.subplot(1,2,2)\n",
        "ax2.imshow(phase_spectrum2, cmap='gray')\n",
        "\n",
        "plt.show()"
      ],
      "metadata": {
        "id": "yRJUHZaI6b8x"
      },
      "execution_count": null,
      "outputs": []
    },
    {
      "cell_type": "markdown",
      "source": [
        "#Combine spectrum and phase"
      ],
      "metadata": {
        "id": "oeDN9sHd6fdo"
      }
    },
    {
      "cell_type": "code",
      "source": [
        "import math\n",
        "import matplotlib.pyplot as plt\n",
        "\n",
        "img1 = cv2.imread(\"Im184.bmp\",0)\n",
        "img2 = cv2.imread(\"Im183.BMP\",0)\n",
        "\n",
        "f = np.fft.fft2(img1)\n",
        "fshift1 = np.fft.fftshift(f)\n",
        "phase_spectrumA = np.angle(fshift1)\n",
        "magnitude_spectrumB = 20*np.log(np.abs(fshift1))\n",
        "\n",
        "f2 = np.fft.fft2(img2)\n",
        "fshift2 = np.fft.fftshift(f2)\n",
        "phase_spectrumB = np.angle(fshift2)\n",
        "magnitude_spectrumB = 20*np.log(np.abs(fshift2))\n",
        "\n",
        "combined = np.multiply(np.abs(f), np.exp(1j*np.angle(f2)))\n",
        "\n",
        "imgCombined = np.real(np.fft.ifft2(combined))\n",
        "\n",
        "#plt.imshow(phase_spectrumA, cmap='gray')\n",
        "plt.imshow(imgCombined, cmap='gray')"
      ],
      "metadata": {
        "id": "6JPaVjgf7CKT"
      },
      "execution_count": null,
      "outputs": []
    },
    {
      "cell_type": "code",
      "source": [
        "import math\n",
        "import matplotlib.pyplot as plt\n",
        "\n",
        "img1 = cv2.imread(\"Im184.bmp\",0)\n",
        "img2 = cv2.imread(\"Im183.BMP\",0)\n",
        "\n",
        "f = np.fft.fft2(img2)\n",
        "fshift1 = np.fft.fftshift(f)\n",
        "phase_spectrumA = np.angle(fshift1)\n",
        "magnitude_spectrumA = 20*np.log(np.abs(fshift1))\n",
        "\n",
        "f2 = np.fft.fft2(img1)\n",
        "fshift2 = np.fft.fftshift(f2)\n",
        "phase_spectrumB = np.angle(fshift2)\n",
        "magnitude_spectrumB = 20*np.log(np.abs(fshift2))\n",
        "\n",
        "combined = np.multiply(np.abs(f), np.exp(1j*np.angle(f2)))\n",
        "\n",
        "imgCombined = np.real(np.fft.ifft2(combined))\n",
        "\n",
        "#plt.imshow(phase_spectrumA, cmap='gray')\n",
        "plt.imshow(imgCombined, cmap='gray')"
      ],
      "metadata": {
        "id": "oUPBwIoB7K5M"
      },
      "execution_count": null,
      "outputs": []
    },
    {
      "cell_type": "code",
      "source": [
        "import numpy as np\n",
        "import cv2\n",
        "import matplotlib.pyplot as plt\n",
        "\n",
        "def GaussLowPassFiltering(f_shift):\n",
        "         # Set filter radius\n",
        "    D0 = 95\n",
        "         # Initialization\n",
        "    m = f_shift.shape[0]\n",
        "    n = f_shift.shape[1]\n",
        "    h1 = np.zeros((m, n))\n",
        "    x0 = np.floor(m/2)\n",
        "    y0 = np.floor(n/2)\n",
        "    for i in range(m):\n",
        "        for j in range(n):\n",
        "            D = np.sqrt((i - x0)**2 + (j - y0)**2)\n",
        "            h1[i][j] = np.exp((-1)*D**2/2/(D0**2))\n",
        "    result = np.multiply(f_shift, h1)\n",
        "    return result\n",
        "\n",
        "img =cv2.imread('Im421.jpg',0)\n",
        "f=np.fft.fft2(img)\n",
        "f_shift=np.fft.fftshift(f)\n",
        " # Amplitude diagram\n",
        "s= np.log(abs(f_shift))\n",
        " # Phase diagram\n",
        "# p= abs(np.angle(f_shift))\n",
        "# plt.subplot(2,2,1)\n",
        "# plt.imshow(s, 'gray')\n",
        "# plt.subplot(2,2,2)\n",
        "# plt.imshow(p, 'gray')\n",
        "#GLPF\n",
        "GLPF = GaussLowPassFiltering(f_shift)\n",
        "new_f2 = np.fft.ifftshift(GLPF)\n",
        "new_image2 = np.uint8(np.abs(np.fft.ifft2(new_f2)))\n",
        "plt.subplot(2,2,4)\n",
        "plt.imshow(new_image2, 'gray')\n",
        "plt.show()"
      ],
      "metadata": {
        "id": "SCCO_s537PVN"
      },
      "execution_count": null,
      "outputs": []
    },
    {
      "cell_type": "code",
      "source": [
        "import numpy as np\n",
        "import cv2\n",
        "import matplotlib.pyplot as plt\n",
        "\n",
        "def GaussLowPassFiltering(f_shift):\n",
        "         # Set filter radius\n",
        "    D0 = 1000000\n",
        "         # Initialization\n",
        "    m = f_shift.shape[0]\n",
        "    n = f_shift.shape[1]\n",
        "    h1 = np.zeros((m, n))\n",
        "    x0 = np.floor(m/2)\n",
        "    y0 = np.floor(n/2)\n",
        "    for i in range(m):\n",
        "        for j in range(n):\n",
        "            D = np.sqrt((i - x0)**2 + (j - y0)**2)\n",
        "            h1[i][j] = np.exp((-1)*D**2/2/(D0**2))\n",
        "    result = np.multiply(f_shift, h1)\n",
        "    return result\n",
        "\n",
        "img =cv2.imread('Im423.jpg',0)\n",
        "f=np.fft.fft2(img)\n",
        "f_shift=np.fft.fftshift(f)\n",
        " # Amplitude diagram\n",
        "s= np.log(abs(f_shift))\n",
        " # Phase diagram\n",
        "p= abs(np.angle(f_shift))\n",
        "# plt.subplot(2,2,1)\n",
        "# plt.imshow(s, 'gray')\n",
        "# plt.subplot(2,2,2)\n",
        "# plt.imshow(p, 'gray')\n",
        "#GLPF\n",
        "GLPF = GaussLowPassFiltering(f_shift)\n",
        "new_f2 = np.fft.ifftshift(GLPF)\n",
        "new_image2 = np.uint8(np.abs(np.fft.ifft2(new_f2)))\n",
        "\n",
        "plt.subplot(2,2,4)\n",
        "plt.imshow(new_image2, 'gray')\n",
        "plt.show()"
      ],
      "metadata": {
        "id": "5tTUDiYe7SV4"
      },
      "execution_count": null,
      "outputs": []
    },
    {
      "cell_type": "code",
      "source": [
        "import numpy as np\n",
        "import cv2\n",
        "import matplotlib.pyplot as plt\n",
        "img2 = cv2.imread(\"LPFG-1000000-Im423.png\",0)\n",
        "def GaussLowPassFiltering(f_shift):\n",
        "         # Set filter radius\n",
        "    D0 = 10\n",
        "         # Initialization\n",
        "    m = f_shift.shape[0]\n",
        "    n = f_shift.shape[1]\n",
        "    h1 = np.zeros((m, n))\n",
        "    x0 = np.floor(m/2)\n",
        "    y0 = np.floor(n/2)\n",
        "    for i in range(m):\n",
        "        for j in range(n):\n",
        "            D = np.sqrt((i - x0)**2 + (j - y0)**2)\n",
        "            h1[i][j] = np.exp((-1)*D**2/2/(D0**2))\n",
        "    result = np.multiply(f_shift, h1)\n",
        "    return result\n",
        "\n",
        "img =cv2.imread('LPFG-1000000-Im423.png',0)\n",
        "f=np.fft.fft2(img)\n",
        "f_shift=np.fft.fftshift(f)\n",
        " # Amplitude diagram\n",
        "s= np.log(abs(f_shift))\n",
        " # Phase diagram\n",
        "p= abs(np.angle(f_shift))\n",
        "# plt.subplot(2,2,1)\n",
        "# plt.imshow(s, 'gray')\n",
        "# plt.subplot(2,2,2)\n",
        "# plt.imshow(p, 'gray')\n",
        "#GLPF\n",
        "# img = cv2.imread(\"Im183.BMP\",0)\n",
        "# scale_percent =49.1\n",
        "# scale_percent1 = 49.1\n",
        "# width = int(img.shape[1] * scale_percent /100)\n",
        "# height = int(img.shape[0] * scale_percent1 /100)\n",
        "# dim = (width, height)\n",
        "\n",
        "# img3 = cv2.resize(img, dim, interpolation=cv2.INTER_AREA)\n",
        "GLPF = GaussLowPassFiltering(f_shift)\n",
        "new_f2 = np.fft.ifftshift(GLPF)\n",
        "new_image2 = np.uint8(np.abs(np.fft.ifft2(new_f2)))\n",
        "new_image3 = img2 - new_image2\n",
        "dark_image_grey_fourier = np.fft.fftshift(np.fft.fft2(new_image3))\n",
        "plt.figure(num=None, figsize=(8, 6), dpi=80)\n",
        "plt.imshow(np.log(abs(dark_image_grey_fourier)), cmap='gray');\n",
        "#dark_image1_grey = rgb2gray(new_image3)\n",
        "# dark_image_grey_fourier = np.fft.fftshift(np.fft.fft2(dark_image1_grey))\n",
        "# plt.figure(num=None, figsize=(8, 6), dpi=80)\n",
        "# plt.imshow(np.log(abs(dark_image_grey_fourier)), cmap='gray');\n",
        "# plt.subplot(2,2,3)\n",
        "# plt.imshow(dark_image_grey_fourier)\n",
        "x= new_image3.shape\n",
        "print(x)\n",
        "#plt.subplot(2,2,4)\n",
        "cv2_imshow(new_image3)\n",
        "#plt.show()"
      ],
      "metadata": {
        "id": "4Kg1qgf27XQt"
      },
      "execution_count": null,
      "outputs": []
    },
    {
      "cell_type": "code",
      "source": [
        "def IdealHighPassFiltering(f_shift):\n",
        "    # Set filter radius\n",
        "    D0 = 0.1\n",
        "         # Initialization\n",
        "    m = f_shift.shape[0]\n",
        "    n = f_shift.shape[1]\n",
        "    h1 = np.zeros((m, n))\n",
        "    x0 = np.floor(m/2)\n",
        "    y0 = np.floor(n/2)\n",
        "    for i in range(m):\n",
        "        for j in range(n):\n",
        "            D = np.sqrt((i - x0)**2 + (j - y0)**2)\n",
        "            if D >= D0:\n",
        "                h1[i][j] = 1\n",
        "    result = np.multiply(f_shift, h1)\n",
        "    return result\n",
        "img =cv2.imread('Im421.jpg',0)\n",
        "f=np.fft.fft2(img)\n",
        "f_shift=np.fft.fftshift(f)\n",
        " # Amplitude diagram\n",
        "s= np.log(abs(f_shift))\n",
        " # Phase diagram\n",
        "p= abs(np.angle(f_shift))\n",
        "plt.subplot(2,2,1)\n",
        "plt.imshow(s, 'gray')\n",
        "plt.subplot(2,2,2)\n",
        "plt.imshow(p, 'gray')\n",
        "\n",
        "# Ideal high pass filter\n",
        "IHPF = IdealHighPassFiltering(f_shift)\n",
        "new_f1 = np.fft.ifftshift(IHPF)\n",
        "new_image1 = np.uint8(np.abs(np.fft.ifft2(new_f1)))\n",
        "plt.subplot(2,2,3)\n",
        "plt.imshow(new_image1, 'gray')"
      ],
      "metadata": {
        "id": "imqABUtP7u-l"
      },
      "execution_count": null,
      "outputs": []
    },
    {
      "cell_type": "markdown",
      "source": [
        "# add lowpass filter with highpass filter\n",
        "\n",
        "\n"
      ],
      "metadata": {
        "id": "GMImQDLd73Kh"
      }
    },
    {
      "cell_type": "code",
      "source": [
        "import matplotlib.pyplot as plt\n",
        "import os\n",
        "import cv2\n",
        "from os.path import join\n",
        "import numpy as np\n",
        "from PIL import Image\n",
        "import matplotlib.image as mpimg\n",
        "from skimage.transform import rescale, resize, downscale_local_mean\n",
        "from skimage import img_as_float\n",
        "from scipy import signal\n",
        "\n",
        "\n",
        "def  vis_hybrid_image(hybrid_image):\n",
        "\n",
        "  scales = 1 #how many downsampled versions to create\n",
        "  padding = 5 #how many pixels to pad.\n",
        "\n",
        "  original_height = hybrid_image.shape[0]\n",
        "  num_colors = hybrid_image.shape[2] #counting how many color channels the input has\n",
        "  output = hybrid_image\n",
        "  cur_image = hybrid_image\n",
        "\n",
        "  for i in range(2,scales+1):\n",
        "      # add padding\n",
        "      output = np.concatenate((output, np.ones((original_height, padding, num_colors))),axis = 1)\n",
        "     \n",
        "      cur_image = resize(cur_image,(cur_image.shape[0] // 2, cur_image.shape[1] // 2), anti_aliasing=True)\n",
        "\n",
        "      tmp = np.concatenate((np.ones((original_height-cur_image.shape[0], cur_image.shape[1], num_colors)), cur_image), axis = 0)\n",
        "        \n",
        "      output = np.concatenate((output, tmp), axis=1);\n",
        "  \n",
        "  return(output)\n",
        "\n",
        "def my_imfilter(image,Filter):\n",
        "    image =cv2.imread('einstein.bmp')    \n",
        "    # image & filter dimensions\n",
        "    img_H = image.shape[0]\n",
        "    img_W = image.shape[0]\n",
        "    \n",
        "    fil_H = Filter.shape[0]\n",
        "    fil_W = Filter.shape[1]\n",
        "\n",
        "    # Number of channels grey-1    rgb-3\n",
        "    channels = len(image[0][0])\n",
        "    \n",
        "    output = np.zeros((image.shape[0], image.shape[1], channels))\n",
        "\n",
        "    padded_img = np.zeros((image.shape[0] + Filter.shape[0]-1, image.shape[1] + Filter.shape[1]-1, channels))\n",
        "\n",
        "    # adjusting image to the in the padded_img\n",
        "    padded_img[int((Filter.shape[0]-1)/2) : image.shape[0]+int((Filter.shape[0]-1)/2), int((Filter.shape[1]-1)/2) : image.shape[1] + int((Filter.shape[1]-1)/2)] = image\n",
        "\n",
        "    for k in range(channels):\n",
        "        for i in range(image.shape[0]):\n",
        "            for j in range(image.shape[1]):\n",
        "                output[i][j][k] = np.sum(np.multiply(padded_img[i:i+Filter.shape[0], j:j+Filter.shape[1], k], Filter))\n",
        "    \n",
        "    output = np.clip(output, 0, 1) \n",
        "    return output\n",
        "\n",
        "\n",
        "plt.close('all') # closes all figures\n",
        "\n",
        "\n",
        "image1 = cv2.imread(\"marilyn.jpg\")\n",
        "image2 = cv2.imread(\"einstein.bmp\")\n",
        "\n",
        "image1 = img_as_float(image1) #will provide the low frequencies\n",
        "image2 = img_as_float(image2) #will provide the high frequencies\n",
        "\n",
        "# Try for values between 1-10 and see which outputs the best hybrid image\n",
        "cutoff_frequency = 3\n",
        "\n",
        "def gaussian_blur(image, sigma, fourier):\n",
        "    \"\"\" Builds a Gaussian kernel used to perform the LPF on an image.\n",
        "    \"\"\"\n",
        "\n",
        "\n",
        "    # Calculate size of filter.\n",
        "    size = 8 * sigma + 1\n",
        "    if not size % 2:\n",
        "        size = size + 1\n",
        "\n",
        "    center = size // 2\n",
        "    kernel = np.zeros((size, size))\n",
        "\n",
        "    # Generate Gaussian blur.\n",
        "    for y in range(size):\n",
        "        for x in range(size):\n",
        "            diff = (y - center) ** 2 + (x - center) ** 2\n",
        "            kernel[y, x] = np.exp(-diff / (2 * sigma ** 2))\n",
        "\n",
        "    kernel = kernel / np.sum(kernel)\n",
        "\n",
        "    if fourier:\n",
        "        return fourier(image, kernel)\n",
        "    else:\n",
        "        return vis_hybrid_image(image, kernel)\n",
        "\n",
        "\n",
        "def low_pass(image, cutoff, fourier):\n",
        "    \"\"\" Generate low pass filter of image.\n",
        "    \"\"\"\n",
        "    print(\"[{}]\\tGenerating low pass image...\".format(image))\n",
        "    return gaussian_blur(image, cutoff, fourier)\n",
        "\n",
        "\n",
        "def high_pass(image, cutoff, fourier):\n",
        "    \"\"\" Generate high pass filter of image. This is simply the image minus its\n",
        "    low passed result.\n",
        "    \"\"\"\n",
        "    print(\"[{}]\\tGenerating high pass image...\".format(image))\n",
        "    return (cv2.imread(image) / 255) - low_pass(image, cutoff, fourier)\n",
        "\n",
        "\n",
        "def hybrid_image(image, cutoff, fourier):\n",
        "    \"\"\" Create a hybrid image by summing together the low and high frequency\n",
        "    images.\n",
        "    \"\"\"\n",
        "    # Perform low pass filter and export.\n",
        "    low = low_pass(image[0], cutoff[0], fourier)\n",
        "    cv2.imwrite(\"low.jpg\", low * 255)\n",
        "    # Perform high pass filter and export.\n",
        "    high = high_pass(image[1], cutoff[1], fourier)\n",
        "    cv2.imwrite(\"high.jpg\", (high + 0.5) * 255)\n",
        "\n",
        "    print(\"Creating hybrid image...\")\n",
        "    hybrid_image = low + high\n",
        "\n",
        "f = plt.figure()\n",
        "f.add_subplot(1,2, 1)\n",
        "plt.title(\"Low Frequency\")\n",
        "plt.imshow(low_pass)\n",
        "f.add_subplot(1,2, 2)\n",
        "plt.title(\"High Frequency\")\n",
        "plt.imshow(high_pass)\n",
        "plt.show(block=True)\n",
        "\n",
        "vis = vis_hybrid_image(hybrid_image) #see function script vis_hybrid_image.py\n",
        "plt.figure(3)\n",
        "plt.imshow(np.clip(vis,0,1))\n",
        "plt.show()\n"
      ],
      "metadata": {
        "id": "aQqPYDvr737U"
      },
      "execution_count": null,
      "outputs": []
    }
  ]
}